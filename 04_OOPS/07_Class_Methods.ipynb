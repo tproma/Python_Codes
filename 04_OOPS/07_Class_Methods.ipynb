{
 "cells": [
  {
   "cell_type": "markdown",
   "id": "4359a6d6",
   "metadata": {},
   "source": [
    "#### classmethod is a built-in decorator used to define a method that is bound to the class and not the instance of the class. This means that the method can be called on the class itself, rather than on instances of the class."
   ]
  },
  {
   "cell_type": "code",
   "execution_count": 1,
   "id": "1ebfd8e9-a8c9-49dd-bd66-4b8f8e55b907",
   "metadata": {},
   "outputs": [],
   "source": [
    "class class1:\n",
    "    def __init__(self, name, email):\n",
    "        self.name = name\n",
    "        self.email= email\n",
    "\n",
    "    def student_details(self):\n",
    "        print(self.name, self.email)"
   ]
  },
  {
   "cell_type": "code",
   "execution_count": 2,
   "id": "1207653d-4485-43d9-a1aa-fde3da80706d",
   "metadata": {},
   "outputs": [],
   "source": [
    "obj_class1 = class1(\"Pro\", \"pro@gmail.com\")\n"
   ]
  },
  {
   "cell_type": "code",
   "execution_count": 3,
   "id": "62e2bd07",
   "metadata": {},
   "outputs": [
    {
     "data": {
      "text/plain": [
       "'Pro'"
      ]
     },
     "execution_count": 3,
     "metadata": {},
     "output_type": "execute_result"
    }
   ],
   "source": [
    "obj_class1.name"
   ]
  },
  {
   "cell_type": "code",
   "execution_count": 4,
   "id": "15bfb65a",
   "metadata": {},
   "outputs": [
    {
     "data": {
      "text/plain": [
       "'pro@gmail.com'"
      ]
     },
     "execution_count": 4,
     "metadata": {},
     "output_type": "execute_result"
    }
   ],
   "source": [
    "obj_class1.email"
   ]
  },
  {
   "cell_type": "code",
   "execution_count": 5,
   "id": "383845b4",
   "metadata": {},
   "outputs": [
    {
     "name": "stdout",
     "output_type": "stream",
     "text": [
      "Pro pro@gmail.com\n"
     ]
    }
   ],
   "source": [
    "obj_class1.student_details()"
   ]
  },
  {
   "cell_type": "markdown",
   "id": "4fda5cf4",
   "metadata": {},
   "source": [
    "### Classmethod"
   ]
  },
  {
   "cell_type": "code",
   "execution_count": 30,
   "id": "2365ae9d",
   "metadata": {},
   "outputs": [],
   "source": [
    "class class1:\n",
    "    def __init__(self, name, email):\n",
    "        self.name = name\n",
    "        self.email= email\n",
    "\n",
    "    # This is equivalent to __init__\n",
    "    @classmethod\n",
    "    def details(cls, name1, email1):\n",
    "        return cls(name1,email1)\n",
    "\n",
    "    def student_details(self):\n",
    "        print(self.name, self.email)"
   ]
  },
  {
   "cell_type": "code",
   "execution_count": 31,
   "id": "429479c6",
   "metadata": {},
   "outputs": [],
   "source": [
    "obj = class1.details(\"tp\", \"tp@gmail.com\")"
   ]
  },
  {
   "cell_type": "code",
   "execution_count": 32,
   "id": "47418ec6",
   "metadata": {},
   "outputs": [
    {
     "data": {
      "text/plain": [
       "'tp'"
      ]
     },
     "execution_count": 32,
     "metadata": {},
     "output_type": "execute_result"
    }
   ],
   "source": [
    "obj.name"
   ]
  },
  {
   "cell_type": "code",
   "execution_count": 11,
   "id": "0b681c2c",
   "metadata": {},
   "outputs": [
    {
     "name": "stdout",
     "output_type": "stream",
     "text": [
      "tp tp@gmail.com\n"
     ]
    }
   ],
   "source": [
    "obj.student_details()"
   ]
  },
  {
   "cell_type": "markdown",
   "id": "63b68f18",
   "metadata": {},
   "source": [
    "### class variable can be accessed via class name\n",
    "dont even need an object. Object is an instance of the class itself."
   ]
  },
  {
   "cell_type": "code",
   "execution_count": 24,
   "id": "6ba9d742",
   "metadata": {},
   "outputs": [],
   "source": [
    "class class2:\n",
    "\n",
    "    mobile_number = 98687585\n",
    "\n",
    "    # method to pass data\n",
    "    def __init__(self, name, email):\n",
    "        self.name = name\n",
    "        self.email= email\n",
    "\n",
    "    # This is equivalent to __init__\n",
    "    # Class method\n",
    "    @classmethod\n",
    "    def details(cls, name, email):\n",
    "        return cls(name,email)\n",
    "\n",
    "    # Instance Method\n",
    "    def student_details(self):\n",
    "        print(self.name, self.email, class2.mobile_number)"
   ]
  },
  {
   "cell_type": "code",
   "execution_count": 25,
   "id": "6501652c",
   "metadata": {},
   "outputs": [
    {
     "data": {
      "text/plain": [
       "98687585"
      ]
     },
     "execution_count": 25,
     "metadata": {},
     "output_type": "execute_result"
    }
   ],
   "source": [
    "class2.mobile_number"
   ]
  },
  {
   "cell_type": "markdown",
   "id": "9843cd2f",
   "metadata": {},
   "source": [
    "## access through calling a variable of classmethod"
   ]
  },
  {
   "cell_type": "code",
   "execution_count": 21,
   "id": "df17bc77",
   "metadata": {},
   "outputs": [],
   "source": [
    "obj2 = class2.details(\"sam\", \"sam@gmail.com\")"
   ]
  },
  {
   "cell_type": "code",
   "execution_count": 22,
   "id": "0dd9d04e",
   "metadata": {},
   "outputs": [
    {
     "name": "stdout",
     "output_type": "stream",
     "text": [
      "sam sam@gmail.com 98687585\n"
     ]
    }
   ],
   "source": [
    "obj2.student_details()"
   ]
  },
  {
   "cell_type": "markdown",
   "id": "f99ac542",
   "metadata": {},
   "source": [
    "## Access through object"
   ]
  },
  {
   "cell_type": "code",
   "execution_count": 26,
   "id": "60c05665",
   "metadata": {},
   "outputs": [],
   "source": [
    "obj2_o = class2(\"obj\", \"obj.gmail.com\")"
   ]
  },
  {
   "cell_type": "code",
   "execution_count": 27,
   "id": "6bda796e",
   "metadata": {},
   "outputs": [
    {
     "name": "stdout",
     "output_type": "stream",
     "text": [
      "obj obj.gmail.com 98687585\n"
     ]
    }
   ],
   "source": [
    "obj2_o.student_details()"
   ]
  },
  {
   "cell_type": "markdown",
   "id": "47f95e69",
   "metadata": {},
   "source": [
    "## Access a mobile number and modify it via class method"
   ]
  },
  {
   "cell_type": "code",
   "execution_count": 29,
   "id": "1c7952f6",
   "metadata": {},
   "outputs": [],
   "source": [
    "class class2:\n",
    "\n",
    "    mobile_number = 98687585\n",
    "\n",
    "    # method to pass data\n",
    "    def __init__(self, name, email):\n",
    "        self.name = name\n",
    "        self.email= email\n",
    "\n",
    "\n",
    "    @classmethod\n",
    "    def change_number(cls, mobile):\n",
    "        class2.mobile_number = mobile\n",
    "\n",
    "    @classmethod\n",
    "    def details(cls, name, email):\n",
    "        return cls(name,email)\n",
    "\n",
    "    # Instance Method\n",
    "    def student_details(self):\n",
    "        print(self.name, self.email, class2.mobile_number)"
   ]
  }
 ],
 "metadata": {
  "kernelspec": {
   "display_name": "Python 3 (ipykernel)",
   "language": "python",
   "name": "python3"
  },
  "language_info": {
   "codemirror_mode": {
    "name": "ipython",
    "version": 3
   },
   "file_extension": ".py",
   "mimetype": "text/x-python",
   "name": "python",
   "nbconvert_exporter": "python",
   "pygments_lexer": "ipython3",
   "version": "3.11.7"
  }
 },
 "nbformat": 4,
 "nbformat_minor": 5
}
