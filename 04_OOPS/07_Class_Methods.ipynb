{
 "cells": [
  {
   "cell_type": "code",
   "execution_count": 1,
   "id": "1ebfd8e9-a8c9-49dd-bd66-4b8f8e55b907",
   "metadata": {},
   "outputs": [],
   "source": [
    "class class1:\n",
    "    def __init__(self, name, email):\n",
    "        self.name = name\n",
    "        self.email= email\n",
    "\n",
    "    def student_details(self):\n",
    "        print(self.name, self.email)"
   ]
  },
  {
   "cell_type": "code",
   "execution_count": 2,
   "id": "1207653d-4485-43d9-a1aa-fde3da80706d",
   "metadata": {},
   "outputs": [],
   "source": [
    "obj_class1 = class1(\"Pro\", \"pro@gmail.com\")\n"
   ]
  },
  {
   "cell_type": "code",
   "execution_count": 3,
   "id": "62e2bd07",
   "metadata": {},
   "outputs": [
    {
     "data": {
      "text/plain": [
       "'Pro'"
      ]
     },
     "execution_count": 3,
     "metadata": {},
     "output_type": "execute_result"
    }
   ],
   "source": [
    "obj_class1.name"
   ]
  },
  {
   "cell_type": "code",
   "execution_count": 4,
   "id": "15bfb65a",
   "metadata": {},
   "outputs": [
    {
     "data": {
      "text/plain": [
       "'pro@gmail.com'"
      ]
     },
     "execution_count": 4,
     "metadata": {},
     "output_type": "execute_result"
    }
   ],
   "source": [
    "obj_class1.email"
   ]
  },
  {
   "cell_type": "code",
   "execution_count": 5,
   "id": "383845b4",
   "metadata": {},
   "outputs": [
    {
     "name": "stdout",
     "output_type": "stream",
     "text": [
      "Pro pro@gmail.com\n"
     ]
    }
   ],
   "source": [
    "obj_class1.student_details()"
   ]
  },
  {
   "cell_type": "code",
   "execution_count": null,
   "id": "2365ae9d",
   "metadata": {},
   "outputs": [],
   "source": []
  }
 ],
 "metadata": {
  "kernelspec": {
   "display_name": "Python 3 (ipykernel)",
   "language": "python",
   "name": "python3"
  },
  "language_info": {
   "codemirror_mode": {
    "name": "ipython",
    "version": 3
   },
   "file_extension": ".py",
   "mimetype": "text/x-python",
   "name": "python",
   "nbconvert_exporter": "python",
   "pygments_lexer": "ipython3",
   "version": "3.11.7"
  }
 },
 "nbformat": 4,
 "nbformat_minor": 5
}
