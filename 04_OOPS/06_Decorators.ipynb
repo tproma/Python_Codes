{
 "cells": [
  {
   "cell_type": "code",
   "execution_count": 1,
   "id": "dd030d01-0a27-4d65-8c43-9baa0c5577f5",
   "metadata": {},
   "outputs": [],
   "source": [
    "def test():\n",
    "    print(\"Start\")\n",
    "    print(4+2)\n",
    "    print(\"End\")"
   ]
  },
  {
   "cell_type": "code",
   "execution_count": 2,
   "id": "3b11b8de",
   "metadata": {},
   "outputs": [
    {
     "name": "stdout",
     "output_type": "stream",
     "text": [
      "Start\n",
      "6\n",
      "End\n"
     ]
    }
   ],
   "source": [
    "test()"
   ]
  },
  {
   "cell_type": "code",
   "execution_count": 3,
   "id": "66bb33b9",
   "metadata": {},
   "outputs": [],
   "source": [
    "def deco(func):\n",
    "    def inner_deco():\n",
    "        print(\"Start:\")\n",
    "        func()\n",
    "        print(\"End\")\n",
    "\n",
    "    return inner_deco"
   ]
  },
  {
   "cell_type": "code",
   "execution_count": 6,
   "id": "6ab2ece3",
   "metadata": {},
   "outputs": [],
   "source": [
    "@deco\n",
    "def test1():\n",
    "    print(4+2)"
   ]
  },
  {
   "cell_type": "code",
   "execution_count": 7,
   "id": "602d29d4",
   "metadata": {},
   "outputs": [
    {
     "name": "stdout",
     "output_type": "stream",
     "text": [
      "Start:\n",
      "6\n",
      "End\n"
     ]
    }
   ],
   "source": [
    "test1()"
   ]
  },
  {
   "cell_type": "code",
   "execution_count": null,
   "id": "bdf09948",
   "metadata": {},
   "outputs": [],
   "source": []
  }
 ],
 "metadata": {
  "kernelspec": {
   "display_name": "Python 3 (ipykernel)",
   "language": "python",
   "name": "python3"
  },
  "language_info": {
   "codemirror_mode": {
    "name": "ipython",
    "version": 3
   },
   "file_extension": ".py",
   "mimetype": "text/x-python",
   "name": "python",
   "nbconvert_exporter": "python",
   "pygments_lexer": "ipython3",
   "version": "3.11.7"
  }
 },
 "nbformat": 4,
 "nbformat_minor": 5
}
