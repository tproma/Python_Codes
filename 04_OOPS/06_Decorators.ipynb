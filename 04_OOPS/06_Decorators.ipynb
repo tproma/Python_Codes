{
 "cells": [
  {
   "cell_type": "code",
   "execution_count": 1,
   "id": "dd030d01-0a27-4d65-8c43-9baa0c5577f5",
   "metadata": {},
   "outputs": [],
   "source": [
    "def test():\n",
    "    print(\"Start\")\n",
    "    print(4+2)\n",
    "    print(\"End\")"
   ]
  },
  {
   "cell_type": "code",
   "execution_count": 2,
   "id": "3b11b8de",
   "metadata": {},
   "outputs": [
    {
     "name": "stdout",
     "output_type": "stream",
     "text": [
      "Start\n",
      "6\n",
      "End\n"
     ]
    }
   ],
   "source": [
    "test()"
   ]
  },
  {
   "cell_type": "code",
   "execution_count": 3,
   "id": "66bb33b9",
   "metadata": {},
   "outputs": [],
   "source": [
    "def deco(func):\n",
    "    def inner_deco():\n",
    "        print(\"Start:\")\n",
    "        func()\n",
    "        print(\"End\")\n",
    "\n",
    "    return inner_deco"
   ]
  },
  {
   "cell_type": "code",
   "execution_count": 6,
   "id": "6ab2ece3",
   "metadata": {},
   "outputs": [],
   "source": [
    "@deco\n",
    "def test1():\n",
    "    print(4+2)"
   ]
  },
  {
   "cell_type": "code",
   "execution_count": 7,
   "id": "602d29d4",
   "metadata": {},
   "outputs": [
    {
     "name": "stdout",
     "output_type": "stream",
     "text": [
      "Start:\n",
      "6\n",
      "End\n"
     ]
    }
   ],
   "source": [
    "test1()"
   ]
  },
  {
   "cell_type": "markdown",
   "id": "c5329a74",
   "metadata": {},
   "source": [
    "### Timer Example"
   ]
  },
  {
   "cell_type": "code",
   "execution_count": 19,
   "id": "bdf09948",
   "metadata": {},
   "outputs": [],
   "source": [
    "import time\n",
    "\n",
    "def timer_test(func):\n",
    "    def timer_test_inner():\n",
    "        start = time.time()\n",
    "        func()\n",
    "        end = time.time()\n",
    "        print(start)\n",
    "        print(end)\n",
    "        print(end-start)\n",
    "    \n",
    "    return timer_test_inner\n"
   ]
  },
  {
   "cell_type": "code",
   "execution_count": 26,
   "id": "9da6de56",
   "metadata": {},
   "outputs": [],
   "source": [
    "@timer_test\n",
    "def test2():\n",
    "    print(12345**123)"
   ]
  },
  {
   "cell_type": "code",
   "execution_count": 27,
   "id": "b94ff1ea",
   "metadata": {},
   "outputs": [
    {
     "name": "stdout",
     "output_type": "stream",
     "text": [
      "179227478536797075276952162319434197129926964430623405351403914666844095303193142386105303128935260661331482166609669142646381589155256961299625923906846736377224598990446854741893321648522851663303862851165879753724272728386042804116173040017014488023693807547724950916588058455499429272048326934098750367364004488112819439755556403443027523561951313385041616743787240003466700321402142800004483416756392021359457461719905854364181525061772982959380338841234880410679952689179117442108690738677978515625\n",
      "1722408091.176364\n",
      "1722408091.176364\n",
      "0.0\n"
     ]
    }
   ],
   "source": [
    "test2()"
   ]
  },
  {
   "cell_type": "code",
   "execution_count": null,
   "id": "5302f71a",
   "metadata": {},
   "outputs": [],
   "source": []
  }
 ],
 "metadata": {
  "kernelspec": {
   "display_name": "Python 3 (ipykernel)",
   "language": "python",
   "name": "python3"
  },
  "language_info": {
   "codemirror_mode": {
    "name": "ipython",
    "version": 3
   },
   "file_extension": ".py",
   "mimetype": "text/x-python",
   "name": "python",
   "nbconvert_exporter": "python",
   "pygments_lexer": "ipython3",
   "version": "3.11.7"
  }
 },
 "nbformat": 4,
 "nbformat_minor": 5
}
