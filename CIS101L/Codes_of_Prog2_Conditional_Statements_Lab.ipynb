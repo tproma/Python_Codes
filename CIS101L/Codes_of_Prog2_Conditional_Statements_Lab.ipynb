{
  "cells": [
    {
      "cell_type": "markdown",
      "source": [
        "#### Function\n"
      ],
      "metadata": {
        "id": "yiql85Ykp6tQ"
      }
    },
    {
      "cell_type": "code",
      "source": [
        "5# 1. Sum operation without using a function\n",
        "a = int(input(\"Enter the first number: \"))\n",
        "b = int(input(\"Enter the second number: \"))\n",
        "sum_without_function = a + b\n",
        "print(\"Sum without function:\", sum_without_function)\n",
        "\n",
        "# 2. Sum operation using a function\n",
        "def calculate_sum(x, y):\n",
        "    return x + y\n",
        "\n",
        "sum_with_function = calculate_sum(a, b)\n",
        "print(\"Sum using function:\", sum_with_function)"
      ],
      "metadata": {
        "colab": {
          "base_uri": "https://localhost:8080/"
        },
        "id": "DxWn8nwhp4iz",
        "outputId": "8af44436-aff6-4638-f79a-8a5a04a9ea11"
      },
      "execution_count": null,
      "outputs": [
        {
          "output_type": "stream",
          "name": "stdout",
          "text": [
            "Enter the first number: 6\n",
            "Enter the second number: 5\n",
            "Sum without function: 11\n",
            "Sum using function: 11\n"
          ]
        }
      ]
    },
    {
      "cell_type": "markdown",
      "metadata": {
        "id": "X_fNVTr9fXnj"
      },
      "source": [
        "\n",
        "#### **Problem 01**\n",
        "Consider two numbers a and b. Now write a program to compute if a to the power b (a^b) is even or odd.\n",
        "\n",
        "**Sample Input :**\n",
        "```\n",
        "Number a:21\n",
        "Number b:10\n",
        "```\n",
        "**Sample Output:**\n",
        "```\n",
        "Result: Odd\n",
        "```"
      ]
    },
    {
      "cell_type": "code",
      "execution_count": null,
      "metadata": {
        "id": "VW1u1yO5o9Lw",
        "colab": {
          "base_uri": "https://localhost:8080/"
        },
        "outputId": "d6780888-67f2-47d7-e1a9-bc284c0582c1"
      },
      "outputs": [
        {
          "output_type": "stream",
          "name": "stdout",
          "text": [
            "Number a:3\n",
            "Number b:2\n",
            "Result: Odd\n"
          ]
        }
      ],
      "source": [
        "# Write your code here\n",
        "a = int(input(\"Number a:\"))\n",
        "b = int(input(\"Number b:\"))\n",
        "\n",
        "c = a**b\n",
        "\n",
        "if c % 2 == 0 :\n",
        "  print(\"Result: Even\")\n",
        "else:\n",
        "  print(\"Result: Odd\")"
      ]
    },
    {
      "cell_type": "markdown",
      "metadata": {
        "id": "dBdvEmUkcsr8"
      },
      "source": [
        "#### **Problem 02**\n",
        "Write a program which takes three 4 digits numbers as inputs and the program prints the maximum number of those numbers as output.\n",
        "\n",
        "**Sample Input:**\n",
        "```\n",
        "Enter 1st number: 1285\n",
        "Enter 2nd number: 8381\n",
        "Enter 3rd number: 5713\n",
        "```\n",
        "**Sample Output:**\n",
        "```\n",
        "The maximum number of them is 8381\n",
        "```"
      ]
    },
    {
      "cell_type": "code",
      "execution_count": null,
      "metadata": {
        "id": "Oe9qTUBupBMU",
        "colab": {
          "base_uri": "https://localhost:8080/"
        },
        "outputId": "8adb197b-11f1-416f-f9dd-c0aaf3d9f969"
      },
      "outputs": [
        {
          "output_type": "stream",
          "name": "stdout",
          "text": [
            "Enter 1st number : 2354\n",
            "Enter 2nd number : 4356\n",
            "Enter 3rd number : 9786\n",
            "The maximum number of them is  9786\n"
          ]
        }
      ],
      "source": [
        "# Write your code here\n",
        "num1 = int(input(\"Enter 1st number : \"))\n",
        "num2 = int(input(\"Enter 2nd number : \"))\n",
        "num3 = int(input(\"Enter 3rd number : \"))\n",
        "\n",
        "if 1000 <= num1 <= 9999 and 1000 <= num2 <= 9999 and 1000 <= num3 <= 9999:\n",
        "  maximum = max(num1, num2, num3)\n",
        "  print(\"The maximum number of them is \", maximum)\n",
        "\n",
        "else:\n",
        "  print(\"Please enter only 4-digit numbers.\")"
      ]
    },
    {
      "cell_type": "markdown",
      "metadata": {
        "id": "fEq7HSEDbyk3"
      },
      "source": [
        "#### **Problem 03**\n",
        "Write a Python program which takes a number as input and check if the number is positive, negative or zero.\n",
        "\n",
        "**Sample Input:**\n",
        "```console\n",
        "Enter a number: 5\n",
        "```\n",
        "**Sample Output:**\n",
        "```console\n",
        "5 is a positive number\n",
        "```"
      ]
    },
    {
      "cell_type": "code",
      "execution_count": null,
      "metadata": {
        "id": "Fuafyg3Ubyk3",
        "colab": {
          "base_uri": "https://localhost:8080/"
        },
        "outputId": "2cb230c0-f6a7-42b0-8eb5-6f5356e10c11"
      },
      "outputs": [
        {
          "output_type": "stream",
          "name": "stdout",
          "text": [
            "Enter a number: -567\n",
            "-567 is a negative number\n"
          ]
        }
      ],
      "source": [
        "# Write your code here\n",
        "a = int(input(\"Enter a number: \"))\n",
        "\n",
        "if a>0:\n",
        "  print(f\"{a} is a positive number\")\n",
        "elif a<0:\n",
        "  print(f\"{a} is a negative number\")\n",
        "else:\n",
        "  print(f\"{a} is neutral\")"
      ]
    },
    {
      "cell_type": "markdown",
      "metadata": {
        "id": "RALDkFoZbyk3"
      },
      "source": [
        "#### **Problem 04**\n",
        "Write a Python program to take a character as input and check if the character is a vowel or consonant.\n",
        "\n",
        "**Sample Input:**\n",
        "```console\n",
        "Enter a character: a\n",
        "```\n",
        "**Sample Output:**\n",
        "```console\n",
        "'a' is a vowel\n",
        "```"
      ]
    },
    {
      "cell_type": "code",
      "execution_count": null,
      "metadata": {
        "id": "jX9ZTvDLbyk3",
        "colab": {
          "base_uri": "https://localhost:8080/"
        },
        "outputId": "4096ee90-0a41-44cd-bdd4-e5463cb08d58"
      },
      "outputs": [
        {
          "output_type": "stream",
          "name": "stdout",
          "text": [
            "Enter a character: q\n",
            " 'q' is a consonant\n"
          ]
        }
      ],
      "source": [
        "# Write your code here\n",
        "char = input(\"Enter a character: \")\n",
        "\n",
        "vowels = \"aeiou\"\n",
        "\n",
        "if char in vowels:\n",
        "  print(f\" '{char}' is a vowel\")\n",
        "else:\n",
        "  print(f\" '{char}' is a consonant\")"
      ]
    },
    {
      "cell_type": "markdown",
      "metadata": {
        "id": "9YARmDWUbyk4"
      },
      "source": [
        "#### **Problem 05**\n",
        "For this problem, you will need to take two integers `a`, `b` and a caracter `c` to represent an operation. The caracter can be +, -, *, / or % (for modulus). You will need to perform the operation on a and b and print the result. If the operation is not one of the above, print \"Invalid operation\".\n",
        "\n",
        "**Sample Input:**\n",
        "```console\n",
        "Enter a: 5\n",
        "Enter b: 2\n",
        "Enter operation: +\n",
        "```\n",
        "\n",
        "**Sample Output:**\n",
        "```console\n",
        "Result: 7\n",
        "```"
      ]
    },
    {
      "cell_type": "code",
      "execution_count": null,
      "metadata": {
        "id": "iY2Z2SmKbyk4",
        "colab": {
          "base_uri": "https://localhost:8080/"
        },
        "outputId": "8a53fd40-bdeb-4e02-8aaa-3afb64c6d511"
      },
      "outputs": [
        {
          "output_type": "stream",
          "name": "stdout",
          "text": [
            "Number a:3\n",
            "Number b:2\n",
            "Enter operation: *\n",
            "Result: 6\n"
          ]
        }
      ],
      "source": [
        "# Write your code here\n",
        "a = int(input(\"Number a:\"))\n",
        "b = int(input(\"Number b:\"))\n",
        "\n",
        "c = input(\"Enter operation: \")\n",
        "# valid_operation = \"+-*/%\"\n",
        "\n",
        "if c == '+':\n",
        "    result = a + b\n",
        "    print(\"Result:\", result)\n",
        "elif c == '-':\n",
        "    result = a - b\n",
        "    print(\"Result:\", result)\n",
        "elif c == '*':\n",
        "    result = a * b\n",
        "    print(\"Result:\", result)\n",
        "elif c == '/':\n",
        "    if b != 0:\n",
        "        result = a / b\n",
        "        print(\"Result:\", result)\n",
        "    else:\n",
        "        print(\"Cannot divide by zero.\")\n",
        "elif c == '%':\n",
        "    if b != 0:\n",
        "        result = a % b\n",
        "        print(\"Result:\", result)\n",
        "    else:\n",
        "        print(\"Cannot perform modulus by zero.\")\n",
        "else:\n",
        "    print(\"Invalid operation.\")"
      ]
    },
    {
      "cell_type": "markdown",
      "metadata": {
        "id": "fbmMW7i6byk4"
      },
      "source": [
        "4#### **Problem 06**\n",
        "Read 4 integer numbers `a`, `b`, `c` and `d` from the user. Then if `b` is greater than `a` and sum of `c` and `d` is greater than `a` and `b` and if `c` and `d` are positive and `a` is even, print \"Correct values\", otherwise print \"Wrong values\".\n",
        "\n",
        "**Sample Input:**\n",
        "```console\n",
        "Enter a: 5\n",
        "Enter b: 6\n",
        "Enter c: 7\n",
        "Enter d: 8\n",
        "```\n",
        "\n",
        "**Sample Output:**\n",
        "```console\n",
        "Correct values\n",
        "```"
      ]
    },
    {
      "cell_type": "code",
      "execution_count": null,
      "metadata": {
        "id": "XgDTI0QFbyk4"
      },
      "outputs": [],
      "source": [
        "# Write your code here"
      ]
    },
    {
      "cell_type": "markdown",
      "metadata": {
        "id": "I4J8DuTdbyk4"
      },
      "source": [
        "#### **Problem 07**\n",
        "According to the Gregorian calendar, a few years are regarded as leap years. These years had 366 days rather than 365 days, and the month February had 29 days rather than 28. When the year is a multiple of 4, but not a multiple of 400, it is a leap year.\n",
        "\n",
        "Write a program that takes a year as input and prints whether the year is a leap year or not.\n",
        "\n",
        "**Sample Input:**\n",
        "```console\n",
        "Enter a year: 2004\n",
        "```\n",
        "**Sample Output:**\n",
        "```console\n",
        "2004 is a leap year\n",
        "```"
      ]
    },
    {
      "cell_type": "code",
      "execution_count": null,
      "metadata": {
        "id": "CCtFbpVcbyk4"
      },
      "outputs": [],
      "source": [
        "# Write your code here\n",
        "\n",
        "year = int(input(\"Enter a year:\"))\n",
        "\n",
        "if (year % 4 == 0 and year % 100 != 0) or (year % 400 == 0):\n",
        "  print(f\"{year} is a leap year\")\n",
        "else:\n",
        "  print(f\"{year} is not a leap year\")"
      ]
    },
    {
      "cell_type": "markdown",
      "metadata": {
        "id": "-STyTfMlcdyU"
      },
      "source": [
        "#### **Problem 08**\n",
        "For this problem you need to write down a code for the grading system. Consider the grading system used in the [Ministry of Education](http://www.educationboard.gov.bd/computer/grading_system.php) website link (follow the link marked in blue color).\n",
        "\n",
        "Now, you need to write a program that takes a number as score of a student out of 100. Then, the program should print the grade of the student.\n",
        "\n",
        "Sample Input :\n",
        "```console\n",
        "Enter your score: 85\n",
        "```\n",
        "Sample Output:\n",
        "```console\n",
        "You got A+ on the subject.\n",
        "```"
      ]
    },
    {
      "cell_type": "code",
      "execution_count": null,
      "metadata": {
        "id": "2OILHRtQbyk4"
      },
      "outputs": [],
      "source": [
        "# Write your code here\n",
        "score = int(input(\"Enter the student's score (out of 100): \"))\n",
        "\n",
        "# Checking and assigning grades based on the score\n",
        "if 90 <= score <= 100:\n",
        "    grade = 'A'\n",
        "elif 80 <= score < 90:\n",
        "    grade = 'B'\n",
        "elif 70 <= score < 80:\n",
        "    grade = 'C'\n",
        "elif 60 <= score < 70:\n",
        "    grade = 'D'\n",
        "elif 0 <= score < 60:\n",
        "    grade = 'F'\n",
        "else:\n",
        "    grade = None\n",
        "\n",
        "# Displaying the result\n",
        "if grade:\n",
        "    print(f\"The student's grade is: {grade}\")\n",
        "else:\n",
        "    print(\"Invalid score. Please enter a score between 0 and 100.\")"
      ]
    },
    {
      "cell_type": "markdown",
      "metadata": {
        "id": "5uThoiAEgyxD"
      },
      "source": [
        "#### **Problem 09**\n",
        "A company of Bangladesh, is decided to give a salary increase to its employees, according to the following table:\n",
        "\n",
        "| Salary | Readjustment Rate |\n",
        "|:------:|:-----------------:|\n",
        "| 0 - 400.00| 15% |\n",
        "| 400.01 - 800.00 | 12% |\n",
        "| 800.01 - 1200.00 | 10% |\n",
        "| 1200.01 - 2000.00 | 7% |\n",
        "| Above 2000.00 | 4% |\n",
        "\n",
        "                               \n",
        "Read the employee's salary, calculate and print the new employee's salary, as well the money earned and the increased percentage obtained by the employee, with corresponding messages, as the below example.\n",
        "\n",
        "**Sample Input:**\n",
        "```console\n",
        "Enter your salary: 400\n",
        "```\n",
        "**Sample Output:**\n",
        "```console\n",
        "Previous Salary: 400\n",
        "Current Salary: 460\n",
        "Increment Rate: 15%\n",
        "```\n"
      ]
    },
    {
      "cell_type": "code",
      "execution_count": null,
      "metadata": {
        "id": "C2jUdU0fpI6k"
      },
      "outputs": [],
      "source": [
        "# Write your code here\n",
        "salary = float(input(\"Enter your salary: \"))\n",
        "\n",
        "# Determine the readjustment rate and calculate new salary\n",
        "if 0 <= salary <= 400.00:\n",
        "    rate = 15\n",
        "elif 400.01 <= salary <= 800.00:\n",
        "    rate = 12\n",
        "elif 800.01 <= salary <= 1200.00:\n",
        "    rate = 10\n",
        "elif 1200.01 <= salary <= 2000.00:\n",
        "    rate = 7\n",
        "elif salary > 2000.00:\n",
        "    rate = 4\n",
        "else:\n",
        "    rate = None  # To handle unexpected negative inputs\n",
        "\n",
        "# If the rate is valid, calculate the increase and new salary\n",
        "if rate is not None:\n",
        "    increase = salary * rate / 100\n",
        "    new_salary = salary + increase\n",
        "\n",
        "    # Displaying the result\n",
        "    print(f\"Previous Salary: {salary:.2f}\")\n",
        "    print(f\"New Salary: {new_salary:.2f}\")\n",
        "    print(f\"Increased Percentage: {rate}%\")\n",
        "else:\n",
        "    print(\"Invalid salary input. Please enter a non-negative value.\")"
      ]
    },
    {
      "cell_type": "markdown",
      "metadata": {
        "id": "rIVu_RyQbyk4"
      },
      "source": [
        "#### **Problem 10**\n",
        "Remember the quadratic equation? $ax^2 + bx + c = 0$. There are at most two possible solutions for this equation. They may be real or imaginary. The solutions are given by the following formula:\n",
        "\n",
        "$$x = \\frac{-b \\pm \\sqrt{b^2 - 4ac}}{2a}$$\n",
        "\n",
        "The equation may have only one root or two roots. or imaginary roots. The discriminant $b^2 - 4ac$ determines the number of roots by the following rules:\n",
        "\n",
        "- If $b^2 - 4ac > 0$, then the equation has two real roots.\n",
        "- If $b^2 - 4ac = 0$, then the equation has one real root.\n",
        "- If $b^2 - 4ac < 0$, then the equation has two imaginary roots.\n",
        "\n",
        "Write a program that takes the values of $a$, $b$, and $c$ as input and prints the roots of the equation. If the equation has no real roots, print a message: \"The equation has no real roots\". If real root/roots exist, print the roots in the following format:\n",
        "\n",
        "**Sample Input 01:**\n",
        "```console\n",
        "Enter a: 1\n",
        "Enter b: 2\n",
        "Enter c: 1\n",
        "```\n",
        "\n",
        "**Sample Output 01:**\n",
        "```console\n",
        "The equation has one real root: -1.0\n",
        "```\n",
        "\n",
        "**Sample Input 02:**\n",
        "```console\n",
        "Enter a: 8\n",
        "Enter b: -4\n",
        "Enter c: -2\n",
        "```\n",
        "\n",
        "**Sample Output 02:**\n",
        "```console\n",
        "The equation has two real roots: 0.81 and -0.31\n",
        "```\n",
        "\n",
        "**Sample Input 03:**\n",
        "```console\n",
        "Enter a: 1\n",
        "Enter b: 2\n",
        "Enter c: 3\n",
        "```\n",
        "\n",
        "**Sample Output 03:**\n",
        "```console\n",
        "The equation has no real roots\n",
        "```"
      ]
    },
    {
      "cell_type": "code",
      "execution_count": null,
      "metadata": {
        "id": "rty9xYaSbyk5"
      },
      "outputs": [],
      "source": [
        "# Write your code here\n",
        "import math\n",
        "\n",
        "# Taking coefficients a, b, and c as input\n",
        "a = float(input(\"Enter the coefficient a: \"))\n",
        "b = float(input(\"Enter the coefficient b: \"))\n",
        "c = float(input(\"Enter the coefficient c: \"))\n",
        "\n",
        "# Calculating the discriminant\n",
        "discriminant = b**2 - 4 * a * c\n",
        "\n",
        "# Determining the nature of roots based on the discriminant\n",
        "if discriminant > 0:\n",
        "    # Two distinct real roots\n",
        "    root1 = (-b + math.sqrt(discriminant)) / (2 * a)\n",
        "    root2 = (-b - math.sqrt(discriminant)) / (2 * a)\n",
        "    print(f\"The equation has two real roots: {root1:.2f} and {root2:.2f}\")\n",
        "elif discriminant == 0:\n",
        "    # One real root\n",
        "    root = -b / (2 * a)\n",
        "    print(f\"The equation has one real root: {root:.2f}\")\n",
        "else:\n",
        "    # Imaginary roots\n",
        "    real_part = -b / (2 * a)\n",
        "    imaginary_part = math.sqrt(-discriminant) / (2 * a)\n",
        "    print(\"The equation has no real roots.\")\n",
        "    print(f\"The imaginary roots are: {real_part:.2f} + {imaginary_part:.2f}i and {real_part:.2f} - {imaginary_part:.2f}i\")\n"
      ]
    },
    {
      "cell_type": "code",
      "source": [],
      "metadata": {
        "id": "Hm3euLwZnSB3"
      },
      "execution_count": null,
      "outputs": []
    }
  ],
  "metadata": {
    "colab": {
      "provenance": []
    },
    "kernelspec": {
      "display_name": "Python 3.10.6 64-bit",
      "language": "python",
      "name": "python3"
    },
    "language_info": {
      "codemirror_mode": {
        "name": "ipython",
        "version": 3
      },
      "file_extension": ".py",
      "mimetype": "text/x-python",
      "name": "python",
      "nbconvert_exporter": "python",
      "pygments_lexer": "ipython3",
      "version": "3.10.6"
    },
    "vscode": {
      "interpreter": {
        "hash": "b148fc9bfa8b60132af830e32e1690e4e023b803e92912df15b823b90141dda6"
      }
    }
  },
  "nbformat": 4,
  "nbformat_minor": 0
}