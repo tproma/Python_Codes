{
  "nbformat": 4,
  "nbformat_minor": 0,
  "metadata": {
    "colab": {
      "provenance": []
    },
    "kernelspec": {
      "name": "python3",
      "display_name": "Python 3"
    },
    "language_info": {
      "name": "python"
    }
  },
  "cells": [
    {
      "cell_type": "markdown",
      "source": [
        "**Question 1**:\n",
        "\n",
        "Print your name, student id, email address, section and course id as follows\n",
        "\n",
        "    my name:\n",
        "    student id:\n",
        "    email:\n",
        "    section:\n",
        "    course id:"
      ],
      "metadata": {
        "id": "GgOPeo4B1AEi"
      }
    },
    {
      "cell_type": "code",
      "source": [
        "# Write your code here\n",
        "print('''my name : Proma\n",
        "id: 1221434\n",
        "section: 10''')"
      ],
      "metadata": {
        "id": "yAo92kVC3XNb",
        "colab": {
          "base_uri": "https://localhost:8080/"
        },
        "outputId": "718e8a10-c5af-47d4-b9d8-760cfa61a4f7"
      },
      "execution_count": null,
      "outputs": [
        {
          "output_type": "stream",
          "name": "stdout",
          "text": [
            "my name : Proma\n",
            "id: 1221434\n",
            "section: 10\n"
          ]
        }
      ]
    },
    {
      "cell_type": "markdown",
      "source": [
        "**Question 2**:\n",
        "\n",
        "Use five variables to store your name, student id, email address, section and course id and then print them using five print() statements"
      ],
      "metadata": {
        "id": "oSb1GENn0_9V"
      }
    },
    {
      "cell_type": "code",
      "source": [
        "# Write your code here\n",
        "name = \"Proma\"\n",
        "id = \"121334\"\n",
        "email = \"tanjinaproma@gmail.com\"\n",
        "section = 10\n",
        "c_id = 101\n",
        "\n",
        "print(\"my name : \", name)\n",
        "print(\"student id: \", id)\n"
      ],
      "metadata": {
        "id": "0NzsGVNB3YDM",
        "colab": {
          "base_uri": "https://localhost:8080/"
        },
        "outputId": "80dbfa44-03ce-4dfe-c341-7288258df6f4"
      },
      "execution_count": null,
      "outputs": [
        {
          "output_type": "stream",
          "name": "stdout",
          "text": [
            "my name :  Proma\n",
            "student id:  121334\n"
          ]
        }
      ]
    },
    {
      "cell_type": "markdown",
      "source": [
        "**Question 3**:\n",
        "\n",
        "Use three variables to store your student id, course name, CGPA and then print them using single print() statement. The print will be exactly is follows:\n",
        "\n",
        "    Student id:\n",
        "    Course name:\n",
        "    Student CGPA:"
      ],
      "metadata": {
        "id": "A5XNmabP1KgN"
      }
    },
    {
      "cell_type": "code",
      "source": [
        "# Write your code here\n",
        "id = \"121334\"\n",
        "course_name = \"CIS101L\"\n",
        "cgpa = 3.00\n",
        "\n",
        "print(\"Student id: \", id, \"\\nCourse name:\", course_name )"
      ],
      "metadata": {
        "id": "qbcWrzAI3Y3D",
        "colab": {
          "base_uri": "https://localhost:8080/"
        },
        "outputId": "1c70fe7c-3bba-4420-83ee-d674ebad52b5"
      },
      "execution_count": null,
      "outputs": [
        {
          "output_type": "stream",
          "name": "stdout",
          "text": [
            "Student id:  121334 \n",
            "Course name: CIS101L\n"
          ]
        }
      ]
    },
    {
      "cell_type": "markdown",
      "source": [
        "**Question 3**:\n",
        "\n",
        "Declare four variables of four different types.Then print their values and data types."
      ],
      "metadata": {
        "id": "vLDkLxgC0_7E"
      }
    },
    {
      "cell_type": "code",
      "source": [
        "# Write your code here\n",
        "# Declaring variables of different types\n",
        "integer_var = 10          # Integer\n",
        "float_var = 20.5          # Float\n",
        "string_var = \"Hello\"      # String\n",
        "boolean_var = True        # Boolean\n",
        "\n",
        "# Printing their values and data types\n",
        "print(\"Value:\", integer_var, \"Type:\", type(integer_var))\n",
        "print(\"Value:\", float_var, \"Type:\", type(float_var))\n",
        "print(\"Value:\", string_var, \"Type:\", type(string_var))\n",
        "print(\"Value:\", boolean_var, \"Type:\", type(boolean_var))\n"
      ],
      "metadata": {
        "id": "nyv6Ndyc3Zoz",
        "colab": {
          "base_uri": "https://localhost:8080/"
        },
        "outputId": "ff19d8f4-49f6-46f6-ec35-912988471fc5"
      },
      "execution_count": null,
      "outputs": [
        {
          "output_type": "stream",
          "name": "stdout",
          "text": [
            "Value: 10 Type: <class 'int'>\n",
            "Value: 20.5 Type: <class 'float'>\n",
            "Value: Hello Type: <class 'str'>\n",
            "Value: True Type: <class 'bool'>\n"
          ]
        }
      ]
    },
    {
      "cell_type": "markdown",
      "source": [
        "**Question 4**:\n",
        "\n",
        "For the following variables check and print their data types\n",
        "\n",
        "```python\n",
        "name = 'My name is Khan'\n",
        "CGPA = 3.768\n",
        "age = 34\n",
        "w = -.7+7j\n",
        "\n",
        "# Print the datatype for name\n",
        "\n",
        "# Print the datatype for CGPA\n",
        "\n",
        "# Print the datatype for age\n",
        "\n",
        "# Print the datatype for w\n",
        "```"
      ],
      "metadata": {
        "id": "YDyjx2U00_3T"
      }
    },
    {
      "cell_type": "code",
      "source": [
        "# Write your code here\n",
        "name = 'My name is Khan'\n",
        "CGPA = 3.768\n",
        "age = 34\n",
        "w = -.7+7j\n",
        "\n",
        "print(type(name))\n",
        "print(type(CGPA))\n",
        "print(type(age))\n",
        "print(type(w))"
      ],
      "metadata": {
        "id": "OKV7zd6V3ab8",
        "colab": {
          "base_uri": "https://localhost:8080/"
        },
        "outputId": "f5f77e1c-4d53-4be6-bfb1-7805e1219fcd"
      },
      "execution_count": null,
      "outputs": [
        {
          "output_type": "stream",
          "name": "stdout",
          "text": [
            "<class 'str'>\n",
            "<class 'float'>\n",
            "<class 'int'>\n",
            "<class 'complex'>\n"
          ]
        }
      ]
    },
    {
      "cell_type": "markdown",
      "source": [
        "**Question 5:**\n",
        "\n",
        "Using a single assignment operator assign the values 7, 8.91, 'Jonny Jonny Yes Pappa' and 'This is 2023 Summer' to 4 different variables. Then print their values."
      ],
      "metadata": {
        "id": "F6JYmA2G0_x8"
      }
    },
    {
      "cell_type": "code",
      "source": [
        "# Write your code here\n",
        "a,b,c,d = 7, 8.91, 'Jonny Jonny Yes Pappa' , 'This is 2023 Summer'\n",
        "print(\"a = \", a, \"\\tb = \",b, \"\\tc = \", c)"
      ],
      "metadata": {
        "id": "vyY63cgs3bHT",
        "colab": {
          "base_uri": "https://localhost:8080/"
        },
        "outputId": "175dd577-bfb1-4985-d62e-b68936bbf43e"
      },
      "execution_count": null,
      "outputs": [
        {
          "output_type": "stream",
          "name": "stdout",
          "text": [
            "a =  7 \tb =  8.91 \tc =  Jonny Jonny Yes Pappa\n"
          ]
        }
      ]
    },
    {
      "cell_type": "markdown",
      "source": [
        "**Question 6**:\n",
        "* Take two numbers as input from the user and store them in two variables, a and b.\n",
        "* Add the two numbers and store the result in another varibale c (i.e., c = a + b)\n",
        "* Print the result formatteed as follows: a + b = c"
      ],
      "metadata": {
        "id": "AGbpAR2S0Nnt"
      }
    },
    {
      "cell_type": "code",
      "source": [
        "# Write your code here\n",
        "a = input()\n",
        "b = input()\n",
        "\n",
        "c = int(a) + int(b)\n",
        "print(c)"
      ],
      "metadata": {
        "id": "FjrYvpOf0PAs",
        "colab": {
          "base_uri": "https://localhost:8080/"
        },
        "outputId": "a76f5c36-2f51-4a69-b109-cb76c29a8ce0"
      },
      "execution_count": null,
      "outputs": [
        {
          "output_type": "stream",
          "name": "stdout",
          "text": [
            "5\n",
            "3\n",
            "8\n"
          ]
        }
      ]
    },
    {
      "cell_type": "markdown",
      "source": [
        "**Question 7**:\n",
        "\n",
        "a. Take two integer values as input from the user.\n",
        "\n",
        "b. Print the output of (1) division, (2) floor division, (3) Exponent of the two integers."
      ],
      "metadata": {
        "id": "fdLZFUaczyul"
      }
    },
    {
      "cell_type": "code",
      "source": [
        "# Write your code here\n",
        "a = int(input())\n",
        "b = int(input())\n",
        "\n",
        "div = a/b\n",
        "fdiv = a//b\n",
        "exp = a**b\n",
        "\n",
        "print(\"Div: \", div, \"\\nfloor division: \", fdiv, \"\\nExponent : \", exp)"
      ],
      "metadata": {
        "id": "Sor-pO-_z0q0",
        "colab": {
          "base_uri": "https://localhost:8080/"
        },
        "outputId": "73418db7-f65e-47ae-c92d-5faa00d6c376"
      },
      "execution_count": null,
      "outputs": [
        {
          "output_type": "stream",
          "name": "stdout",
          "text": [
            "5\n",
            "2\n",
            "Div:  2.5 \n",
            "floor division:  2 \n",
            "Exponent :  25\n"
          ]
        }
      ]
    },
    {
      "cell_type": "markdown",
      "source": [
        "**Question 8**:\n",
        "\n",
        "Take two numbers as input. Check and print whether they are equal to or not."
      ],
      "metadata": {
        "id": "zt2kkQ3cz3QT"
      }
    },
    {
      "cell_type": "code",
      "source": [
        "# Write your code here\n",
        "a = int(input())\n",
        "b = int(input())\n",
        "\n",
        "test = a == b # checks a is equal to b. RESULT: True or False\n",
        "print(f'{a} == {b} is {test}')\n"
      ],
      "metadata": {
        "id": "qe4mz1Hwz8uT",
        "colab": {
          "base_uri": "https://localhost:8080/"
        },
        "outputId": "3f43f719-1417-4302-c026-022a42170946"
      },
      "execution_count": null,
      "outputs": [
        {
          "output_type": "stream",
          "name": "stdout",
          "text": [
            "6\n",
            "43\n",
            "6 == 43 is False\n"
          ]
        }
      ]
    },
    {
      "cell_type": "markdown",
      "source": [
        "**Question 9**:\n",
        "\n",
        "Write a program to take two numbers from console. Now swap the numbers."
      ],
      "metadata": {
        "id": "2MR5AR1W351T"
      }
    },
    {
      "cell_type": "code",
      "source": [
        "# Write your code here\n",
        "num1 = float(input(\"Enter the first number: \"))\n",
        "num2 = float(input(\"Enter the second number: \"))\n",
        "\n",
        "# Printing numbers before swapping\n",
        "print(f\"Before swapping: num1 = {num1}, num2 = {num2}\")\n",
        "\n",
        "# Swapping the numbers\n",
        "num1, num2 = num2, num1\n",
        "\n",
        "# Printing numbers after swapping\n",
        "print(f\"After swapping: num1 = {num1}, num2 = {num2}\")\n"
      ],
      "metadata": {
        "id": "aZsatc8V69qM",
        "colab": {
          "base_uri": "https://localhost:8080/"
        },
        "outputId": "b516b2b6-66b4-478a-cbd3-70861c568609"
      },
      "execution_count": null,
      "outputs": [
        {
          "output_type": "stream",
          "name": "stdout",
          "text": [
            "Enter the first number: 33\n",
            "Enter the second number: 765\n",
            "Before swapping: num1 = 33.0, num2 = 765.0\n",
            "After swapping: num1 = 765.0, num2 = 33.0\n"
          ]
        }
      ]
    },
    {
      "cell_type": "code",
      "source": [],
      "metadata": {
        "id": "j1N2tLXEperU"
      },
      "execution_count": null,
      "outputs": []
    },
    {
      "cell_type": "markdown",
      "source": [
        "**Question 10**:\n",
        "\n",
        "Write a program that prints a multiplication table for numbers up to 10"
      ],
      "metadata": {
        "id": "i1_uxFhT4UQG"
      }
    },
    {
      "cell_type": "code",
      "source": [
        "# Write your code here\n",
        "\n",
        "for i in range(1, 11):\n",
        "    for j in range(1, 11):\n",
        "        print(f\"{i} x {j} = {i * j}\")\n",
        "    print()  # Blank line between tables"
      ],
      "metadata": {
        "id": "wHL9Mbx_6-UM",
        "colab": {
          "base_uri": "https://localhost:8080/"
        },
        "outputId": "8b3d1fdb-e7d9-408c-ef90-51784aab58bb"
      },
      "execution_count": null,
      "outputs": [
        {
          "output_type": "stream",
          "name": "stdout",
          "text": [
            "1 x 1 = 1\n",
            "1 x 2 = 2\n",
            "1 x 3 = 3\n",
            "1 x 4 = 4\n",
            "1 x 5 = 5\n",
            "1 x 6 = 6\n",
            "1 x 7 = 7\n",
            "1 x 8 = 8\n",
            "1 x 9 = 9\n",
            "1 x 10 = 10\n",
            "\n",
            "2 x 1 = 2\n",
            "2 x 2 = 4\n",
            "2 x 3 = 6\n",
            "2 x 4 = 8\n",
            "2 x 5 = 10\n",
            "2 x 6 = 12\n",
            "2 x 7 = 14\n",
            "2 x 8 = 16\n",
            "2 x 9 = 18\n",
            "2 x 10 = 20\n",
            "\n",
            "3 x 1 = 3\n",
            "3 x 2 = 6\n",
            "3 x 3 = 9\n",
            "3 x 4 = 12\n",
            "3 x 5 = 15\n",
            "3 x 6 = 18\n",
            "3 x 7 = 21\n",
            "3 x 8 = 24\n",
            "3 x 9 = 27\n",
            "3 x 10 = 30\n",
            "\n",
            "4 x 1 = 4\n",
            "4 x 2 = 8\n",
            "4 x 3 = 12\n",
            "4 x 4 = 16\n",
            "4 x 5 = 20\n",
            "4 x 6 = 24\n",
            "4 x 7 = 28\n",
            "4 x 8 = 32\n",
            "4 x 9 = 36\n",
            "4 x 10 = 40\n",
            "\n",
            "5 x 1 = 5\n",
            "5 x 2 = 10\n",
            "5 x 3 = 15\n",
            "5 x 4 = 20\n",
            "5 x 5 = 25\n",
            "5 x 6 = 30\n",
            "5 x 7 = 35\n",
            "5 x 8 = 40\n",
            "5 x 9 = 45\n",
            "5 x 10 = 50\n",
            "\n",
            "6 x 1 = 6\n",
            "6 x 2 = 12\n",
            "6 x 3 = 18\n",
            "6 x 4 = 24\n",
            "6 x 5 = 30\n",
            "6 x 6 = 36\n",
            "6 x 7 = 42\n",
            "6 x 8 = 48\n",
            "6 x 9 = 54\n",
            "6 x 10 = 60\n",
            "\n",
            "7 x 1 = 7\n",
            "7 x 2 = 14\n",
            "7 x 3 = 21\n",
            "7 x 4 = 28\n",
            "7 x 5 = 35\n",
            "7 x 6 = 42\n",
            "7 x 7 = 49\n",
            "7 x 8 = 56\n",
            "7 x 9 = 63\n",
            "7 x 10 = 70\n",
            "\n",
            "8 x 1 = 8\n",
            "8 x 2 = 16\n",
            "8 x 3 = 24\n",
            "8 x 4 = 32\n",
            "8 x 5 = 40\n",
            "8 x 6 = 48\n",
            "8 x 7 = 56\n",
            "8 x 8 = 64\n",
            "8 x 9 = 72\n",
            "8 x 10 = 80\n",
            "\n",
            "9 x 1 = 9\n",
            "9 x 2 = 18\n",
            "9 x 3 = 27\n",
            "9 x 4 = 36\n",
            "9 x 5 = 45\n",
            "9 x 6 = 54\n",
            "9 x 7 = 63\n",
            "9 x 8 = 72\n",
            "9 x 9 = 81\n",
            "9 x 10 = 90\n",
            "\n",
            "10 x 1 = 10\n",
            "10 x 2 = 20\n",
            "10 x 3 = 30\n",
            "10 x 4 = 40\n",
            "10 x 5 = 50\n",
            "10 x 6 = 60\n",
            "10 x 7 = 70\n",
            "10 x 8 = 80\n",
            "10 x 9 = 90\n",
            "10 x 10 = 100\n",
            "\n"
          ]
        }
      ]
    },
    {
      "cell_type": "markdown",
      "source": [
        "**Question 11**:\n",
        "\n",
        "Write a program that calculates the perimeter of a rectangle given its length and width. Your program should:\n",
        "\n",
        "* Take input from the user for the length and width of the rectangle.\n",
        "* Use the formula: Area = length * width\n",
        "* Display the calculated area upto 4 decimal point"
      ],
      "metadata": {
        "id": "EnnBVS584UVM"
      }
    },
    {
      "cell_type": "code",
      "source": [
        "# Write your code here\n",
        "length = float(input(\"enter Length : \"))\n",
        "width = float(input(\"enter Width : \"))\n",
        "\n",
        "Area = length * width\n",
        "print(f\"The area of the rectangle is: {Area:.4f}\")"
      ],
      "metadata": {
        "id": "kPwGN3sSBS0X",
        "colab": {
          "base_uri": "https://localhost:8080/"
        },
        "outputId": "bdce2a11-b8b3-4448-d197-d85d9757d0d4"
      },
      "execution_count": null,
      "outputs": [
        {
          "output_type": "stream",
          "name": "stdout",
          "text": [
            "enter Length : 2.2\n",
            "enter Width : 3\n",
            "The area of the rectangle is: 6.6000\n"
          ]
        }
      ]
    },
    {
      "cell_type": "markdown",
      "source": [
        "**Question 12**:\n",
        "\n",
        "Write a program that calculates the circumference of a circle given its radius. Your program should:\n",
        "\n",
        "* Take input from the user for the radius of the circle.\n",
        "* Declare the value of pi with value of 3.1416\n",
        "* Use the formula: Area = 2 * pi * r\n",
        "* Display the calculated area upto 4 decimal point"
      ],
      "metadata": {
        "id": "vnPqKWA94UXz"
      }
    },
    {
      "cell_type": "code",
      "source": [
        "# Write your code here\n",
        "\n",
        "r = float(input(\"Radius: \"))\n",
        "pi = 3.1416\n",
        "\n",
        "Area= 2*pi*r\n",
        "print(f\"The area is: {Area:.4f}\")"
      ],
      "metadata": {
        "id": "vMMqmbYD8R85",
        "colab": {
          "base_uri": "https://localhost:8080/"
        },
        "outputId": "b81e783b-e614-4ddd-ab4b-cf5dc91e8fee"
      },
      "execution_count": null,
      "outputs": [
        {
          "output_type": "stream",
          "name": "stdout",
          "text": [
            "Radius: 4\n",
            "The area is: 25.1328\n"
          ]
        }
      ]
    },
    {
      "cell_type": "markdown",
      "source": [
        "**Question 13**:\n",
        "\n",
        "Write a program that takes a temperature in Celsius as input and prints its equivalent in Fahrenheit. Your program should:\n",
        "\n",
        "* Take input from the user for the Celsius.\n",
        "* Use the formula: Fahrenheit = (Celsius × 9/5) + 32\n",
        "* Display the calculated Fahrenheit upto 4 decimal point"
      ],
      "metadata": {
        "id": "v6H8vw9KCDq7"
      }
    },
    {
      "cell_type": "code",
      "source": [
        "# Write your code here\n",
        "c = float(input(\"Enter a Temperature: \"))\n",
        "f = (c*9/5) +32\n",
        "\n",
        "print(f\"The Fahrenheit is: {f:.4f}\")"
      ],
      "metadata": {
        "id": "sH1gcqexDFRR",
        "colab": {
          "base_uri": "https://localhost:8080/"
        },
        "outputId": "af166b0a-5f9b-4fc0-cfef-ef0281e81461"
      },
      "execution_count": null,
      "outputs": [
        {
          "output_type": "stream",
          "name": "stdout",
          "text": [
            "Enter a Temperature: 33\n",
            "The Fahrenheit is: 91.4000\n"
          ]
        }
      ]
    },
    {
      "cell_type": "markdown",
      "source": [
        "**Question 14**:\n",
        "\n",
        "Write a program that takes a number of cigarettes smoked per day as input and calculates and prints the total number of cigarettes smoked in a year."
      ],
      "metadata": {
        "id": "7uaP8qzaCE5Y"
      }
    },
    {
      "cell_type": "code",
      "source": [
        "# Write your code here\n",
        "n = int(input())\n",
        "total = 365 *n\n",
        "print(total)"
      ],
      "metadata": {
        "id": "c_0iORkEDF97",
        "colab": {
          "base_uri": "https://localhost:8080/"
        },
        "outputId": "de1a3050-d499-4a73-935b-73bdcbfa5848"
      },
      "execution_count": null,
      "outputs": [
        {
          "output_type": "stream",
          "name": "stdout",
          "text": [
            "5\n",
            "1825\n"
          ]
        }
      ]
    },
    {
      "cell_type": "markdown",
      "source": [
        "**Question 15**:\n",
        "\n",
        "Write a program that takes a person's height in feet as input and calculates and prints their height in meters"
      ],
      "metadata": {
        "id": "mzr4FzPHCbYz"
      }
    },
    {
      "cell_type": "code",
      "source": [
        "# Write your code here\n",
        "f = float(input(\"Enter height in feet :\"))\n",
        "m = f*0.304\n",
        "\n",
        "print(\"Height in meters :\", m)"
      ],
      "metadata": {
        "id": "0FxMO6UCDGkr",
        "colab": {
          "base_uri": "https://localhost:8080/"
        },
        "outputId": "16f57a9e-bf95-47b3-a942-c45154d431e6"
      },
      "execution_count": null,
      "outputs": [
        {
          "output_type": "stream",
          "name": "stdout",
          "text": [
            "Enter height in feet :5.5\n",
            "Height in meters : 1.672\n"
          ]
        }
      ]
    },
    {
      "cell_type": "markdown",
      "source": [
        "# **THE END**"
      ],
      "metadata": {
        "id": "2oWMCtsrDH20"
      }
    }
  ]
}